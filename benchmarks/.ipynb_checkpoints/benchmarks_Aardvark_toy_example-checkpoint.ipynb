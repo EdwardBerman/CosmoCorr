{
 "cells": [
  {
   "cell_type": "code",
   "execution_count": 47,
   "id": "82537337",
   "metadata": {},
   "outputs": [
    {
     "name": "stderr",
     "output_type": "stream",
     "text": [
      "WARNING: replacing module astrocorr.\n"
     ]
    }
   ],
   "source": [
    "include(\"../src/corr.jl\")\n",
    "using .corr"
   ]
  },
  {
   "cell_type": "code",
   "execution_count": 20,
   "id": "a29e70fe",
   "metadata": {},
   "outputs": [],
   "source": [
    "using PyCall"
   ]
  },
  {
   "cell_type": "code",
   "execution_count": 41,
   "id": "6fcad210",
   "metadata": {},
   "outputs": [
    {
     "data": {
      "text/plain": [
       "2-element Vector{PyObject}:\n",
       " PyObject <astropy.io.fits.hdu.image.PrimaryHDU object at 0x777351218d10>\n",
       " PyObject <astropy.io.fits.hdu.table.BinTableHDU object at 0x777350c79710>"
      ]
     },
     "execution_count": 41,
     "metadata": {},
     "output_type": "execute_result"
    }
   ],
   "source": [
    "fits = pyimport(\"astropy.io.fits\")\n",
    "f = fits.open(\"Aardvark.fit\")"
   ]
  },
  {
   "cell_type": "code",
   "execution_count": null,
   "id": "f84b7304",
   "metadata": {},
   "outputs": [],
   "source": [
    "#cool color map"
   ]
  },
  {
   "cell_type": "code",
   "execution_count": 13,
   "id": "f53f6e6a",
   "metadata": {},
   "outputs": [],
   "source": [
    "using UnicodePlots"
   ]
  },
  {
   "cell_type": "code",
   "execution_count": 14,
   "id": "aa2a4dad",
   "metadata": {},
   "outputs": [
    {
     "data": {
      "text/plain": [
       "      \u001b[90m┌────────────────────────────────────────┐\u001b[39m  ⠀⠀⠀⠀     \n",
       "    \u001b[90m1\u001b[39m \u001b[90m│\u001b[39m\u001b[0m⠀\u001b[0m⠀\u001b[0m⠀\u001b[0m⠀\u001b[0m⠀\u001b[0m⠀\u001b[0m⠀\u001b[0m⠀\u001b[0m⠀\u001b[0m⠀\u001b[0m⠀\u001b[0m⠀\u001b[0m⠀\u001b[0m⠀\u001b[0m⠀\u001b[0m⠀\u001b[0m⠀\u001b[0m⠀\u001b[0m⠀\u001b[0m⠀\u001b[0m⠀\u001b[0m⠀\u001b[0m⠀\u001b[0m⠀\u001b[0m⠀\u001b[0m⠀\u001b[0m⠀\u001b[0m⠀\u001b[0m⠀\u001b[0m⠀\u001b[0m⠀\u001b[0m⠀\u001b[0m⠀\u001b[0m⠀\u001b[0m⠀\u001b[0m⠀\u001b[0m⠀\u001b[0m⠀\u001b[0m⠀\u001b[0m⠀\u001b[90m│\u001b[39m  \u001b[90m┌──┐\u001b[39m \u001b[90m15.0\u001b[39m\n",
       "      \u001b[90m│\u001b[39m\u001b[0m⠀\u001b[0m⠀\u001b[0m⠀\u001b[0m⠀\u001b[0m⠀\u001b[0m⠀\u001b[0m⠀\u001b[0m⠀\u001b[0m⠀\u001b[0m⠀\u001b[0m⠀\u001b[0m⠀\u001b[0m⠀\u001b[0m⠀\u001b[0m⠀\u001b[0m⠀\u001b[0m⠀\u001b[0m⠀\u001b[0m⠀\u001b[0m⠀\u001b[0m⠀\u001b[0m⠀\u001b[0m⠀\u001b[0m⠀\u001b[0m⠀\u001b[0m⠀\u001b[0m⠀\u001b[0m⠀\u001b[0m⠀\u001b[0m⠀\u001b[0m⠀\u001b[0m⠀\u001b[0m⠀\u001b[0m⠀\u001b[0m⠀\u001b[0m⠀\u001b[0m⠀\u001b[0m⠀\u001b[0m⠀\u001b[0m⠀\u001b[90m│\u001b[39m  \u001b[90m│\u001b[39m\u001b[38;5;196;48;5;160m▄▄\u001b[0m\u001b[90m│\u001b[39m     \n",
       "      \u001b[90m│\u001b[39m\u001b[0m⠀\u001b[0m⠀\u001b[0m⠀\u001b[0m⠀\u001b[0m⠀\u001b[0m⠀\u001b[0m⠀\u001b[0m⠀\u001b[0m⠀\u001b[0m⠀\u001b[0m⠀\u001b[0m⠀\u001b[0m⠀\u001b[0m⠀\u001b[0m⠀\u001b[0m⠀\u001b[0m⠀\u001b[0m⠀\u001b[0m⠀\u001b[0m⠀\u001b[0m⠀\u001b[0m⠀\u001b[0m⠀\u001b[0m⠀\u001b[0m⠀\u001b[0m⠀\u001b[0m⠀\u001b[0m⠀\u001b[0m⠀\u001b[0m⠀\u001b[0m⠀\u001b[0m⠀\u001b[0m⠀\u001b[0m⠀\u001b[0m⠀\u001b[0m⠀\u001b[0m⠀\u001b[0m⠀\u001b[0m⠀\u001b[0m⠀\u001b[90m│\u001b[39m  \u001b[90m│\u001b[39m\u001b[38;5;208;48;5;202m▄▄\u001b[0m\u001b[90m│\u001b[39m     \n",
       "      \u001b[90m│\u001b[39m\u001b[0m⠀\u001b[0m⠀\u001b[0m⠀\u001b[0m⠀\u001b[0m⠀\u001b[0m⠀\u001b[0m⠀\u001b[0m⠀\u001b[0m⠀\u001b[0m⠀\u001b[0m⠀\u001b[0m⠀\u001b[0m⠀\u001b[0m⠀\u001b[0m⠀\u001b[0m⠀\u001b[0m⠀\u001b[0m⠀\u001b[0m⠀\u001b[38;5;196m⢀\u001b[39m\u001b[38;5;160m⡄\u001b[39m\u001b[0m⠀\u001b[0m⠀\u001b[0m⠀\u001b[0m⠀\u001b[0m⠀\u001b[0m⠀\u001b[0m⠀\u001b[0m⠀\u001b[0m⠀\u001b[0m⠀\u001b[0m⠀\u001b[0m⠀\u001b[0m⠀\u001b[0m⠀\u001b[0m⠀\u001b[0m⠀\u001b[0m⠀\u001b[0m⠀\u001b[0m⠀\u001b[90m│\u001b[39m  \u001b[90m│\u001b[39m\u001b[38;5;220;48;5;214m▄▄\u001b[0m\u001b[90m│\u001b[39m     \n",
       "      \u001b[90m│\u001b[39m\u001b[0m⠀\u001b[0m⠀\u001b[0m⠀\u001b[0m⠀\u001b[0m⠀\u001b[0m⠀\u001b[0m⠀\u001b[0m⠀\u001b[0m⠀\u001b[0m⠀\u001b[0m⠀\u001b[0m⠀\u001b[0m⠀\u001b[0m⠀\u001b[0m⠀\u001b[0m⠀\u001b[0m⠀\u001b[0m⠀\u001b[38;5;214m⢀\u001b[39m\u001b[38;5;208m⡫\u001b[39m\u001b[38;5;208m⢟\u001b[39m\u001b[38;5;214m⡀\u001b[39m\u001b[0m⠀\u001b[0m⠀\u001b[0m⠀\u001b[0m⠀\u001b[0m⠀\u001b[0m⠀\u001b[0m⠀\u001b[0m⠀\u001b[0m⠀\u001b[0m⠀\u001b[0m⠀\u001b[0m⠀\u001b[0m⠀\u001b[0m⠀\u001b[0m⠀\u001b[0m⠀\u001b[0m⠀\u001b[0m⠀\u001b[90m│\u001b[39m  \u001b[90m│\u001b[39m\u001b[38;5;226;48;5;226m▄▄\u001b[0m\u001b[90m│\u001b[39m     \n",
       "      \u001b[90m│\u001b[39m\u001b[0m⠀\u001b[0m⠀\u001b[0m⠀\u001b[0m⠀\u001b[0m⠀\u001b[0m⠀\u001b[0m⠀\u001b[0m⠀\u001b[0m⠀\u001b[0m⠀\u001b[0m⠀\u001b[0m⠀\u001b[0m⠀\u001b[0m⠀\u001b[0m⠀\u001b[0m⠀\u001b[0m⠀\u001b[0m⠀\u001b[38;5;226m⡔\u001b[39m\u001b[38;5;214m⠌\u001b[39m\u001b[38;5;226m⡡\u001b[39m\u001b[38;5;226m⢢\u001b[39m\u001b[0m⠀\u001b[0m⠀\u001b[0m⠀\u001b[0m⠀\u001b[0m⠀\u001b[0m⠀\u001b[0m⠀\u001b[0m⠀\u001b[0m⠀\u001b[0m⠀\u001b[0m⠀\u001b[0m⠀\u001b[0m⠀\u001b[0m⠀\u001b[0m⠀\u001b[0m⠀\u001b[0m⠀\u001b[0m⠀\u001b[90m│\u001b[39m  \u001b[90m│\u001b[39m\u001b[38;5;154;48;5;190m▄▄\u001b[0m\u001b[90m│\u001b[39m     \n",
       "      \u001b[90m│\u001b[39m\u001b[0m⠀\u001b[0m⠀\u001b[0m⠀\u001b[0m⠀\u001b[0m⠀\u001b[0m⠀\u001b[0m⠀\u001b[0m⠀\u001b[0m⠀\u001b[0m⠀\u001b[0m⠀\u001b[0m⠀\u001b[0m⠀\u001b[0m⠀\u001b[0m⠀\u001b[38;5;50m⢀\u001b[39m\u001b[38;5;50m⣀\u001b[39m\u001b[38;5;154m⣰\u001b[39m\u001b[38;5;226m⣭\u001b[39m\u001b[38;5;226m⣊\u001b[39m\u001b[38;5;226m⣑\u001b[39m\u001b[38;5;226m⣭\u001b[39m\u001b[38;5;154m⣆\u001b[39m\u001b[38;5;50m⣀\u001b[39m\u001b[38;5;50m⡀\u001b[39m\u001b[0m⠀\u001b[0m⠀\u001b[0m⠀\u001b[0m⠀\u001b[0m⠀\u001b[0m⠀\u001b[0m⠀\u001b[0m⠀\u001b[0m⠀\u001b[0m⠀\u001b[0m⠀\u001b[0m⠀\u001b[0m⠀\u001b[0m⠀\u001b[0m⠀\u001b[90m│\u001b[39m  \u001b[90m│\u001b[39m\u001b[38;5;82;48;5;118m▄▄\u001b[0m\u001b[90m│\u001b[39m     \n",
       "      \u001b[90m│\u001b[39m\u001b[0m⠀\u001b[0m⠀\u001b[0m⠀\u001b[0m⠀\u001b[0m⠀\u001b[0m⠀\u001b[0m⠀\u001b[0m⠀\u001b[0m⠀\u001b[0m⠀\u001b[38;5;50m⢀\u001b[39m\u001b[38;5;50m⣤\u001b[39m\u001b[38;5;50m⠴\u001b[39m\u001b[38;5;51m⣚\u001b[39m\u001b[38;5;51m⠯\u001b[39m\u001b[38;5;51m⡫\u001b[39m\u001b[38;5;51m⢝\u001b[39m\u001b[38;5;82m⣿\u001b[39m\u001b[38;5;82m⣿\u001b[39m\u001b[38;5;154m⡻\u001b[39m\u001b[38;5;154m⣟\u001b[39m\u001b[38;5;82m⣿\u001b[39m\u001b[38;5;82m⣿\u001b[39m\u001b[38;5;51m⡫\u001b[39m\u001b[38;5;51m⢝\u001b[39m\u001b[38;5;51m⠽\u001b[39m\u001b[38;5;51m⣓\u001b[39m\u001b[38;5;50m⠦\u001b[39m\u001b[38;5;50m⣤\u001b[39m\u001b[38;5;50m⡀\u001b[39m\u001b[0m⠀\u001b[0m⠀\u001b[0m⠀\u001b[0m⠀\u001b[0m⠀\u001b[0m⠀\u001b[0m⠀\u001b[0m⠀\u001b[0m⠀\u001b[0m⠀\u001b[90m│\u001b[39m  \u001b[90m│\u001b[39m\u001b[38;5;46;48;5;46m▄▄\u001b[0m\u001b[90m│\u001b[39m     \n",
       "      \u001b[90m│\u001b[39m\u001b[0m⠀\u001b[0m⠀\u001b[0m⠀\u001b[0m⠀\u001b[0m⠀\u001b[0m⠀\u001b[0m⠀\u001b[0m⠀\u001b[38;5;50m⣠\u001b[39m\u001b[38;5;50m⣾\u001b[39m\u001b[38;5;51m⣯\u001b[39m\u001b[38;5;51m⡭\u001b[39m\u001b[38;5;51m⠭\u001b[39m\u001b[38;5;51m⠒\u001b[39m\u001b[38;5;39m⢊\u001b[39m\u001b[38;5;45m⠔\u001b[39m\u001b[38;5;48m⢱\u001b[39m\u001b[38;5;48m⢍\u001b[39m\u001b[38;5;50m⡘\u001b[39m\u001b[38;5;46m⡖\u001b[39m\u001b[38;5;46m⣳\u001b[39m\u001b[38;5;50m⢃\u001b[39m\u001b[38;5;48m⡩\u001b[39m\u001b[38;5;48m⡎\u001b[39m\u001b[38;5;45m⠢\u001b[39m\u001b[38;5;39m⡑\u001b[39m\u001b[38;5;51m⠒\u001b[39m\u001b[38;5;51m⠭\u001b[39m\u001b[38;5;51m⢭\u001b[39m\u001b[38;5;51m⣽\u001b[39m\u001b[38;5;50m⣷\u001b[39m\u001b[38;5;50m⣄\u001b[39m\u001b[0m⠀\u001b[0m⠀\u001b[0m⠀\u001b[0m⠀\u001b[0m⠀\u001b[0m⠀\u001b[0m⠀\u001b[0m⠀\u001b[90m│\u001b[39m  \u001b[90m│\u001b[39m\u001b[38;5;47;48;5;46m▄▄\u001b[0m\u001b[90m│\u001b[39m     \n",
       "      \u001b[90m│\u001b[39m\u001b[0m⠀\u001b[0m⠀\u001b[0m⠀\u001b[0m⠀\u001b[0m⠀\u001b[0m⠀\u001b[38;5;45m⣠\u001b[39m\u001b[38;5;51m⣾\u001b[39m\u001b[38;5;51m⣿\u001b[39m\u001b[38;5;50m⣿\u001b[39m\u001b[38;5;50m⣿\u001b[39m\u001b[38;5;51m⣞\u001b[39m\u001b[38;5;45m⠭\u001b[39m\u001b[38;5;33m⠭\u001b[39m\u001b[38;5;33m⠥\u001b[39m\u001b[38;5;45m⢒\u001b[39m\u001b[38;5;50m⣿\u001b[39m\u001b[38;5;48m⣋\u001b[39m\u001b[38;5;50m⣵\u001b[39m\u001b[38;5;48m⢜\u001b[39m\u001b[38;5;48m⡧\u001b[39m\u001b[38;5;50m⣮\u001b[39m\u001b[38;5;48m⣙\u001b[39m\u001b[38;5;50m⣿\u001b[39m\u001b[38;5;45m⡒\u001b[39m\u001b[38;5;33m⠬\u001b[39m\u001b[38;5;33m⠭\u001b[39m\u001b[38;5;45m⠭\u001b[39m\u001b[38;5;51m⣳\u001b[39m\u001b[38;5;50m⣿\u001b[39m\u001b[38;5;50m⣿\u001b[39m\u001b[38;5;51m⣿\u001b[39m\u001b[38;5;51m⣷\u001b[39m\u001b[38;5;45m⣄\u001b[39m\u001b[0m⠀\u001b[0m⠀\u001b[0m⠀\u001b[0m⠀\u001b[0m⠀\u001b[0m⠀\u001b[90m│\u001b[39m  \u001b[90m│\u001b[39m\u001b[38;5;49;48;5;48m▄▄\u001b[0m\u001b[90m│\u001b[39m     \n",
       "      \u001b[90m│\u001b[39m\u001b[0m⠀\u001b[0m⠀\u001b[0m⠀\u001b[0m⠀\u001b[38;5;33m⠴\u001b[39m\u001b[38;5;39m⢾\u001b[39m\u001b[38;5;45m⠿\u001b[39m\u001b[38;5;51m⠯\u001b[39m\u001b[38;5;51m⠛\u001b[39m\u001b[38;5;51m⠛\u001b[39m\u001b[38;5;50m⠽\u001b[39m\u001b[38;5;50m⢿\u001b[39m\u001b[38;5;50m⣯\u001b[39m\u001b[38;5;50m⣶\u001b[39m\u001b[38;5;27m⣮\u001b[39m\u001b[38;5;39m⡽\u001b[39m\u001b[38;5;51m⠛\u001b[39m\u001b[38;5;51m⠫\u001b[39m\u001b[38;5;45m⡉\u001b[39m\u001b[38;5;51m⠃\u001b[39m\u001b[38;5;51m⠙\u001b[39m\u001b[38;5;45m⢉\u001b[39m\u001b[38;5;51m⠝\u001b[39m\u001b[38;5;51m⠛\u001b[39m\u001b[38;5;39m⢯\u001b[39m\u001b[38;5;27m⣵\u001b[39m\u001b[38;5;50m⣶\u001b[39m\u001b[38;5;50m⣽\u001b[39m\u001b[38;5;50m⡿\u001b[39m\u001b[38;5;50m⠯\u001b[39m\u001b[38;5;51m⠛\u001b[39m\u001b[38;5;51m⠛\u001b[39m\u001b[38;5;51m⠽\u001b[39m\u001b[38;5;45m⠿\u001b[39m\u001b[38;5;39m⡷\u001b[39m\u001b[38;5;33m⠦\u001b[39m\u001b[0m⠀\u001b[0m⠀\u001b[0m⠀\u001b[0m⠀\u001b[90m│\u001b[39m  \u001b[90m│\u001b[39m\u001b[38;5;51;48;5;50m▄▄\u001b[0m\u001b[90m│\u001b[39m     \n",
       "      \u001b[90m│\u001b[39m\u001b[0m⠀\u001b[0m⠀\u001b[0m⠀\u001b[0m⠀\u001b[0m⠀\u001b[0m⠀\u001b[0m⠀\u001b[0m⠀\u001b[0m⠀\u001b[0m⠀\u001b[0m⠀\u001b[0m⠀\u001b[38;5;45m⠈\u001b[39m\u001b[38;5;50m⢿\u001b[39m\u001b[38;5;51m⣿\u001b[39m\u001b[38;5;51m⣿\u001b[39m\u001b[38;5;51m⢶\u001b[39m\u001b[38;5;51m⣶\u001b[39m\u001b[38;5;51m⣶\u001b[39m\u001b[38;5;51m⡺\u001b[39m\u001b[38;5;51m⣗\u001b[39m\u001b[38;5;51m⣶\u001b[39m\u001b[38;5;51m⣶\u001b[39m\u001b[38;5;51m⡶\u001b[39m\u001b[38;5;51m⣿\u001b[39m\u001b[38;5;51m⣿\u001b[39m\u001b[38;5;50m⡿\u001b[39m\u001b[38;5;45m⠁\u001b[39m\u001b[0m⠀\u001b[0m⠀\u001b[0m⠀\u001b[0m⠀\u001b[0m⠀\u001b[0m⠀\u001b[0m⠀\u001b[0m⠀\u001b[0m⠀\u001b[0m⠀\u001b[0m⠀\u001b[0m⠀\u001b[90m│\u001b[39m  \u001b[90m│\u001b[39m\u001b[38;5;45;48;5;51m▄▄\u001b[0m\u001b[90m│\u001b[39m     \n",
       "      \u001b[90m│\u001b[39m\u001b[0m⠀\u001b[0m⠀\u001b[0m⠀\u001b[0m⠀\u001b[38;5;4m⡇\u001b[39m\u001b[0m⠀\u001b[0m⠀\u001b[0m⠀\u001b[0m⠀\u001b[0m⠀\u001b[0m⠀\u001b[0m⠀\u001b[0m⠀\u001b[0m⠀\u001b[38;5;27m⠈\u001b[39m\u001b[38;5;33m⠙\u001b[39m\u001b[38;5;51m⠛\u001b[39m\u001b[38;5;45m⢷\u001b[39m\u001b[38;5;45m⢵\u001b[39m\u001b[38;5;45m⢾\u001b[39m\u001b[38;5;45m⡷\u001b[39m\u001b[38;5;45m⡮\u001b[39m\u001b[38;5;45m⡾\u001b[39m\u001b[38;5;51m⠛\u001b[39m\u001b[38;5;33m⠋\u001b[39m\u001b[38;5;27m⠁\u001b[39m\u001b[0m⠀\u001b[0m⠀\u001b[0m⠀\u001b[0m⠀\u001b[0m⠀\u001b[0m⠀\u001b[0m⠀\u001b[0m⠀\u001b[0m⠀\u001b[0m⠀\u001b[0m⠀\u001b[0m⠀\u001b[0m⠀\u001b[0m⠀\u001b[90m│\u001b[39m  \u001b[90m│\u001b[39m\u001b[38;5;33;48;5;39m▄▄\u001b[0m\u001b[90m│\u001b[39m     \n",
       "      \u001b[90m│\u001b[39m\u001b[0m⠀\u001b[0m⠀\u001b[38;5;1m⣀\u001b[39m\u001b[38;5;1m⠤\u001b[39m\u001b[38;5;4m⠧\u001b[39m\u001b[38;5;2m⢄\u001b[39m\u001b[38;5;2m⡀\u001b[39m\u001b[0m⠀\u001b[0m⠀\u001b[0m⠀\u001b[0m⠀\u001b[0m⠀\u001b[0m⠀\u001b[0m⠀\u001b[0m⠀\u001b[0m⠀\u001b[0m⠀\u001b[0m⠀\u001b[38;5;39m⠢\u001b[39m\u001b[38;5;33m⢕\u001b[39m\u001b[38;5;39m⡯\u001b[39m\u001b[38;5;39m⠔\u001b[39m\u001b[0m⠀\u001b[0m⠀\u001b[0m⠀\u001b[0m⠀\u001b[0m⠀\u001b[0m⠀\u001b[0m⠀\u001b[0m⠀\u001b[0m⠀\u001b[0m⠀\u001b[0m⠀\u001b[0m⠀\u001b[0m⠀\u001b[0m⠀\u001b[0m⠀\u001b[0m⠀\u001b[0m⠀\u001b[0m⠀\u001b[90m│\u001b[39m  \u001b[90m│\u001b[39m\u001b[38;5;21;48;5;27m▄▄\u001b[0m\u001b[90m│\u001b[39m     \n",
       "   \u001b[90m-1\u001b[39m \u001b[90m│\u001b[39m\u001b[38;5;1m⠐\u001b[39m\u001b[38;5;1m⠉\u001b[39m\u001b[0m⠀\u001b[0m⠀\u001b[0m⠀\u001b[0m⠀\u001b[38;5;2m⠈\u001b[39m\u001b[38;5;2m⠑\u001b[39m\u001b[0m⠀\u001b[0m⠀\u001b[0m⠀\u001b[0m⠀\u001b[0m⠀\u001b[0m⠀\u001b[0m⠀\u001b[0m⠀\u001b[0m⠀\u001b[0m⠀\u001b[0m⠀\u001b[0m⠀\u001b[0m⠀\u001b[0m⠀\u001b[0m⠀\u001b[0m⠀\u001b[0m⠀\u001b[0m⠀\u001b[0m⠀\u001b[0m⠀\u001b[0m⠀\u001b[0m⠀\u001b[0m⠀\u001b[0m⠀\u001b[0m⠀\u001b[0m⠀\u001b[0m⠀\u001b[0m⠀\u001b[0m⠀\u001b[0m⠀\u001b[0m⠀\u001b[0m⠀\u001b[90m│\u001b[39m  \u001b[90m└──┘\u001b[39m \u001b[90m-3.0\u001b[39m\n",
       "      \u001b[90m└────────────────────────────────────────┘\u001b[39m  ⠀⠀⠀⠀     \n",
       "      ⠀\u001b[90m-1\u001b[39m⠀⠀⠀⠀⠀⠀⠀⠀⠀⠀⠀⠀⠀⠀⠀⠀⠀⠀⠀⠀⠀⠀⠀⠀⠀⠀⠀⠀⠀⠀⠀⠀⠀⠀⠀⠀⠀\u001b[90m1\u001b[39m⠀  ⠀⠀⠀⠀     "
      ]
     },
     "execution_count": 14,
     "metadata": {},
     "output_type": "execute_result"
    }
   ],
   "source": [
    "sombrero(x, y) = 15sinc(√(x^2 + y^2) / π)\n",
    "surfaceplot(-8:.5:8, -8:.5:8, sombrero, colormap=:jet)"
   ]
  }
 ],
 "metadata": {
  "kernelspec": {
   "display_name": "Julia 1.9.1",
   "language": "julia",
   "name": "julia-1.9"
  },
  "language_info": {
   "file_extension": ".jl",
   "mimetype": "application/julia",
   "name": "julia",
   "version": "1.9.1"
  },
  "vp": {
   "vp_config_version": "1.0.0",
   "vp_menu_width": 273,
   "vp_note_display": false,
   "vp_note_width": 0,
   "vp_position": {
    "width": 278
   },
   "vp_section_display": false,
   "vp_signature": "VisualPython"
  }
 },
 "nbformat": 4,
 "nbformat_minor": 5
}
