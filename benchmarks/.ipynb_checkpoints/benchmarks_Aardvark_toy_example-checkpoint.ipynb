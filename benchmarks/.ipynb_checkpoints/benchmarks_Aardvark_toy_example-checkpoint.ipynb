{
 "cells": [
  {
   "cell_type": "code",
   "execution_count": 47,
   "id": "f46c7c83",
   "metadata": {},
   "outputs": [
    {
     "name": "stderr",
     "output_type": "stream",
     "text": [
      "WARNING: replacing module astrocorr.\n"
     ]
    }
   ],
   "source": [
    "include(\"../src/corr.jl\")\n",
    "using .corr"
   ]
  },
  {
   "cell_type": "code",
   "execution_count": 20,
   "id": "359a7bf4",
   "metadata": {},
   "outputs": [],
   "source": [
    "using PyCall"
   ]
  },
  {
   "cell_type": "code",
   "execution_count": 41,
   "id": "569924e1",
   "metadata": {},
   "outputs": [
    {
     "data": {
      "text/plain": [
       "2-element Vector{PyObject}:\n",
       " PyObject <astropy.io.fits.hdu.image.PrimaryHDU object at 0x777351218d10>\n",
       " PyObject <astropy.io.fits.hdu.table.BinTableHDU object at 0x777350c79710>"
      ]
     },
     "execution_count": 41,
     "metadata": {},
     "output_type": "execute_result"
    }
   ],
   "source": [
    "fits = pyimport(\"astropy.io.fits\")\n",
    "f = fits.open(\"Aardvark.fit\")"
   ]
  },
  {
   "cell_type": "code",
   "execution_count": null,
   "id": "bedf845c",
   "metadata": {},
   "outputs": [],
   "source": [
    "#cool color map"
   ]
  }
 ],
 "metadata": {
  "kernelspec": {
   "display_name": "Julia 1.9.1",
   "language": "julia",
   "name": "julia-1.9"
  },
  "language_info": {
   "file_extension": ".jl",
   "mimetype": "application/julia",
   "name": "julia",
   "version": "1.9.1"
  },
  "vp": {
   "vp_config_version": "1.0.0",
   "vp_menu_width": 273,
   "vp_note_display": false,
   "vp_note_width": 0,
   "vp_position": {
    "width": 278
   },
   "vp_section_display": false,
   "vp_signature": "VisualPython"
  }
 },
 "nbformat": 4,
 "nbformat_minor": 5
}
