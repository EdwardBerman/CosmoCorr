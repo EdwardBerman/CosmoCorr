{
 "cells": [
  {
   "cell_type": "code",
   "execution_count": 6,
   "id": "82537337",
   "metadata": {},
   "outputs": [],
   "source": [
    "include(\"../src/corr.jl\")\n",
    "using .astrocorr"
   ]
  },
  {
   "cell_type": "code",
   "execution_count": 7,
   "id": "a29e70fe",
   "metadata": {},
   "outputs": [],
   "source": [
    "using PyCall\n",
    "using Statistics\n",
    "using UnicodePlots"
   ]
  },
  {
   "cell_type": "markdown",
   "id": "f35a236e",
   "metadata": {},
   "source": [
    "### Fits File Import\n",
    "\n",
    "### Following the same input example as the TreeCorr tutorial for consistency"
   ]
  },
  {
   "cell_type": "code",
   "execution_count": 8,
   "id": "6fcad210",
   "metadata": {},
   "outputs": [
    {
     "name": "stdout",
     "output_type": "stream",
     "text": [
      "PyObject FITS_rec([(   1933, 56.4195, 84.2215, 0.102024, [-0.39144665,  0.8179416 ], -0.00024539,  9.7094322e-05, -5.6952184e-05, 0.99988616),\n",
      "          (   2137, 56.3823, 84.2226, 0.101307, [-0.07278334,  0.06867532], -0.00022394,  1.3268733e-04, -9.7839526e-05, 0.99980444),\n",
      "          (   2214, 56.4312, 84.2244, 0.101864, [-0.02390082,  0.08414584], -0.00021665,  9.9363104e-05, -7.0993250e-05, 0.9998581 ),\n",
      "          ...,\n",
      "          (6453486, 48.9397, 86.1898, 0.291201, [ 0.20584793, -0.16889036],  0.00111345,  6.8222464e-04,  2.3108818e-04, 1.0004641 ),\n",
      "          (6453497, 48.4729, 86.3515, 0.29181 , [ 0.07442239, -0.0460434 ],  0.0023287 ,  3.0111277e-03,  5.6556723e-04, 1.0011467 ),\n",
      "          (6453505, 78.4782, 85.7026, 0.31616 , [-0.20744826, -0.14598791],  0.00285285, -5.2883668e-04,  1.7893522e-03, 1.0035968 )],\n",
      "         dtype=(numpy.record, [('INDEX', '>i4'), ('RA', '>f4'), ('DEC', '>f4'), ('Z', '>f4'), ('EPSILON', '>f4', (2,)), ('GAMMA1', '>f4'), ('GAMMA2', '>f4'), ('KAPPA', '>f4'), ('MU', '>f4')]))"
     ]
    }
   ],
   "source": [
    "fits = pyimport(\"astropy.io.fits\")\n",
    "f = fits.open(\"Aardvark.fit\")\n",
    "print(f[2].data)"
   ]
  },
  {
   "cell_type": "markdown",
   "id": "f9a87b62",
   "metadata": {},
   "source": [
    "### Reading in the data and plotting it as a quick check"
   ]
  },
  {
   "cell_type": "code",
   "execution_count": 14,
   "id": "620ecf78",
   "metadata": {},
   "outputs": [
    {
     "name": "stdout",
     "output_type": "stream",
     "text": [
      "46.6576093001575\n",
      "84.0705637612241\n"
     ]
    },
    {
     "data": {
      "text/plain": [
       "          ⠀⠀⠀⠀⠀⠀⠀⠀⠀⠀⠀\u001b[1mRA vs DEC Scatterplot\u001b[22m⠀⠀⠀⠀⠀⠀⠀⠀⠀⠀ \n",
       "          \u001b[90m┌────────────────────────────────────────┐\u001b[39m \n",
       "       \u001b[90m90\u001b[39m \u001b[90m│\u001b[39m\u001b[38;5;2m⣿\u001b[39m\u001b[38;5;2m⣿\u001b[39m\u001b[38;5;2m⣿\u001b[39m\u001b[38;5;2m⣿\u001b[39m\u001b[38;5;2m⣿\u001b[39m\u001b[38;5;2m⣿\u001b[39m\u001b[38;5;2m⣿\u001b[39m\u001b[38;5;2m⣿\u001b[39m\u001b[38;5;2m⣿\u001b[39m\u001b[38;5;2m⣾\u001b[39m\u001b[38;5;2m⣿\u001b[39m\u001b[38;5;2m⣿\u001b[39m\u001b[38;5;2m⣿\u001b[39m\u001b[38;5;2m⣿\u001b[39m\u001b[38;5;2m⣿\u001b[39m\u001b[38;5;2m⣿\u001b[39m\u001b[38;5;2m⣿\u001b[39m\u001b[38;5;2m⣿\u001b[39m\u001b[38;5;2m⣿\u001b[39m\u001b[38;5;2m⣿\u001b[39m\u001b[38;5;2m⣿\u001b[39m\u001b[38;5;2m⣿\u001b[39m\u001b[38;5;2m⣿\u001b[39m\u001b[38;5;2m⣿\u001b[39m\u001b[38;5;2m⣿\u001b[39m\u001b[38;5;2m⣿\u001b[39m\u001b[38;5;2m⣿\u001b[39m\u001b[38;5;2m⣿\u001b[39m\u001b[38;5;2m⣿\u001b[39m\u001b[38;5;2m⣿\u001b[39m\u001b[38;5;2m⣿\u001b[39m\u001b[38;5;2m⣿\u001b[39m\u001b[38;5;2m⣿\u001b[39m\u001b[38;5;2m⣿\u001b[39m\u001b[38;5;2m⣿\u001b[39m\u001b[38;5;2m⣿\u001b[39m\u001b[38;5;2m⣿\u001b[39m\u001b[38;5;2m⣿\u001b[39m\u001b[38;5;2m⣿\u001b[39m\u001b[38;5;2m⣿\u001b[39m\u001b[90m│\u001b[39m \n",
       "          \u001b[90m│\u001b[39m\u001b[38;5;2m⣿\u001b[39m\u001b[38;5;2m⣿\u001b[39m\u001b[38;5;2m⣿\u001b[39m\u001b[38;5;2m⣿\u001b[39m\u001b[38;5;2m⣿\u001b[39m\u001b[38;5;2m⣿\u001b[39m\u001b[38;5;2m⣿\u001b[39m\u001b[38;5;2m⣿\u001b[39m\u001b[38;5;2m⣿\u001b[39m\u001b[38;5;2m⣿\u001b[39m\u001b[38;5;2m⣿\u001b[39m\u001b[38;5;2m⣿\u001b[39m\u001b[38;5;2m⣿\u001b[39m\u001b[38;5;2m⣿\u001b[39m\u001b[38;5;2m⣿\u001b[39m\u001b[38;5;2m⣿\u001b[39m\u001b[38;5;2m⣿\u001b[39m\u001b[38;5;2m⣿\u001b[39m\u001b[38;5;2m⣿\u001b[39m\u001b[38;5;2m⣿\u001b[39m\u001b[38;5;2m⣿\u001b[39m\u001b[38;5;2m⣿\u001b[39m\u001b[38;5;2m⣿\u001b[39m\u001b[38;5;2m⣿\u001b[39m\u001b[38;5;2m⣿\u001b[39m\u001b[38;5;2m⣿\u001b[39m\u001b[38;5;2m⣿\u001b[39m\u001b[38;5;2m⣿\u001b[39m\u001b[38;5;2m⣿\u001b[39m\u001b[38;5;2m⣿\u001b[39m\u001b[38;5;2m⣿\u001b[39m\u001b[38;5;2m⣿\u001b[39m\u001b[38;5;2m⣿\u001b[39m\u001b[38;5;2m⣿\u001b[39m\u001b[38;5;2m⣿\u001b[39m\u001b[38;5;2m⣿\u001b[39m\u001b[38;5;2m⣿\u001b[39m\u001b[38;5;2m⣿\u001b[39m\u001b[38;5;2m⣿\u001b[39m\u001b[38;5;2m⣿\u001b[39m\u001b[90m│\u001b[39m \n",
       "          \u001b[90m│\u001b[39m\u001b[38;5;2m⣿\u001b[39m\u001b[38;5;2m⣿\u001b[39m\u001b[38;5;2m⣿\u001b[39m\u001b[38;5;2m⣿\u001b[39m\u001b[38;5;2m⣿\u001b[39m\u001b[38;5;2m⣿\u001b[39m\u001b[38;5;2m⣿\u001b[39m\u001b[38;5;2m⣿\u001b[39m\u001b[38;5;2m⣿\u001b[39m\u001b[38;5;2m⣿\u001b[39m\u001b[38;5;2m⣿\u001b[39m\u001b[38;5;2m⣿\u001b[39m\u001b[38;5;2m⣿\u001b[39m\u001b[38;5;2m⣿\u001b[39m\u001b[38;5;2m⣿\u001b[39m\u001b[38;5;2m⣿\u001b[39m\u001b[38;5;2m⣿\u001b[39m\u001b[38;5;2m⣿\u001b[39m\u001b[38;5;2m⣿\u001b[39m\u001b[38;5;2m⣿\u001b[39m\u001b[38;5;2m⣿\u001b[39m\u001b[38;5;2m⣿\u001b[39m\u001b[38;5;2m⣿\u001b[39m\u001b[38;5;2m⣿\u001b[39m\u001b[38;5;2m⣿\u001b[39m\u001b[38;5;2m⣿\u001b[39m\u001b[38;5;2m⣿\u001b[39m\u001b[38;5;2m⣿\u001b[39m\u001b[38;5;2m⣿\u001b[39m\u001b[38;5;2m⣿\u001b[39m\u001b[38;5;2m⣿\u001b[39m\u001b[38;5;2m⣿\u001b[39m\u001b[38;5;2m⣿\u001b[39m\u001b[38;5;2m⣿\u001b[39m\u001b[38;5;2m⣿\u001b[39m\u001b[38;5;2m⣿\u001b[39m\u001b[38;5;2m⣿\u001b[39m\u001b[38;5;2m⣿\u001b[39m\u001b[38;5;2m⣿\u001b[39m\u001b[38;5;2m⣿\u001b[39m\u001b[90m│\u001b[39m \n",
       "          \u001b[90m│\u001b[39m\u001b[38;5;2m⣿\u001b[39m\u001b[38;5;2m⣿\u001b[39m\u001b[38;5;2m⣿\u001b[39m\u001b[38;5;2m⣿\u001b[39m\u001b[38;5;2m⣿\u001b[39m\u001b[38;5;2m⣿\u001b[39m\u001b[38;5;2m⣿\u001b[39m\u001b[38;5;2m⣿\u001b[39m\u001b[38;5;2m⣿\u001b[39m\u001b[38;5;2m⣿\u001b[39m\u001b[38;5;2m⣿\u001b[39m\u001b[38;5;2m⣿\u001b[39m\u001b[38;5;2m⣿\u001b[39m\u001b[38;5;2m⣿\u001b[39m\u001b[38;5;2m⣿\u001b[39m\u001b[38;5;2m⣿\u001b[39m\u001b[38;5;2m⣿\u001b[39m\u001b[38;5;2m⣿\u001b[39m\u001b[38;5;2m⣿\u001b[39m\u001b[38;5;2m⣿\u001b[39m\u001b[38;5;2m⣿\u001b[39m\u001b[38;5;2m⣿\u001b[39m\u001b[38;5;2m⣿\u001b[39m\u001b[38;5;2m⣿\u001b[39m\u001b[38;5;2m⣿\u001b[39m\u001b[38;5;2m⣿\u001b[39m\u001b[38;5;2m⣿\u001b[39m\u001b[38;5;2m⣿\u001b[39m\u001b[38;5;2m⣿\u001b[39m\u001b[38;5;2m⣿\u001b[39m\u001b[38;5;2m⣿\u001b[39m\u001b[38;5;2m⣿\u001b[39m\u001b[38;5;2m⣿\u001b[39m\u001b[38;5;2m⣿\u001b[39m\u001b[38;5;2m⣿\u001b[39m\u001b[38;5;2m⣿\u001b[39m\u001b[38;5;2m⣿\u001b[39m\u001b[38;5;2m⣿\u001b[39m\u001b[38;5;2m⣿\u001b[39m\u001b[38;5;2m⣿\u001b[39m\u001b[90m│\u001b[39m \n",
       "          \u001b[90m│\u001b[39m\u001b[38;5;2m⠛\u001b[39m\u001b[38;5;2m⠿\u001b[39m\u001b[38;5;2m⠿\u001b[39m\u001b[38;5;2m⣿\u001b[39m\u001b[38;5;2m⣿\u001b[39m\u001b[38;5;2m⣿\u001b[39m\u001b[38;5;2m⣿\u001b[39m\u001b[38;5;2m⣿\u001b[39m\u001b[38;5;2m⣿\u001b[39m\u001b[38;5;2m⣿\u001b[39m\u001b[38;5;2m⣿\u001b[39m\u001b[38;5;2m⣿\u001b[39m\u001b[38;5;2m⣿\u001b[39m\u001b[38;5;2m⣿\u001b[39m\u001b[38;5;2m⣿\u001b[39m\u001b[38;5;2m⣿\u001b[39m\u001b[38;5;2m⣿\u001b[39m\u001b[38;5;2m⣿\u001b[39m\u001b[38;5;2m⣿\u001b[39m\u001b[38;5;2m⣿\u001b[39m\u001b[38;5;2m⣿\u001b[39m\u001b[38;5;2m⣿\u001b[39m\u001b[38;5;2m⣿\u001b[39m\u001b[38;5;2m⣿\u001b[39m\u001b[38;5;2m⣿\u001b[39m\u001b[38;5;2m⣿\u001b[39m\u001b[38;5;2m⣿\u001b[39m\u001b[38;5;2m⣿\u001b[39m\u001b[38;5;2m⣿\u001b[39m\u001b[38;5;2m⣿\u001b[39m\u001b[38;5;2m⣿\u001b[39m\u001b[38;5;2m⣿\u001b[39m\u001b[38;5;2m⣿\u001b[39m\u001b[38;5;2m⣿\u001b[39m\u001b[38;5;2m⣿\u001b[39m\u001b[38;5;2m⣿\u001b[39m\u001b[38;5;2m⣿\u001b[39m\u001b[38;5;2m⠿\u001b[39m\u001b[38;5;2m⠿\u001b[39m\u001b[38;5;2m⠛\u001b[39m\u001b[90m│\u001b[39m \n",
       "          \u001b[90m│\u001b[39m\u001b[0m⠀\u001b[0m⠀\u001b[0m⠀\u001b[0m⠀\u001b[0m⠀\u001b[38;5;2m⠉\u001b[39m\u001b[38;5;2m⠙\u001b[39m\u001b[38;5;2m⠛\u001b[39m\u001b[38;5;2m⠿\u001b[39m\u001b[38;5;2m⣿\u001b[39m\u001b[38;5;2m⣿\u001b[39m\u001b[38;5;2m⣿\u001b[39m\u001b[38;5;2m⣿\u001b[39m\u001b[38;5;2m⣿\u001b[39m\u001b[38;5;2m⣿\u001b[39m\u001b[38;5;2m⣿\u001b[39m\u001b[38;5;2m⣿\u001b[39m\u001b[38;5;2m⣿\u001b[39m\u001b[38;5;2m⣿\u001b[39m\u001b[38;5;2m⣿\u001b[39m\u001b[38;5;2m⣿\u001b[39m\u001b[38;5;2m⣿\u001b[39m\u001b[38;5;2m⣿\u001b[39m\u001b[38;5;2m⣿\u001b[39m\u001b[38;5;2m⣿\u001b[39m\u001b[38;5;2m⣿\u001b[39m\u001b[38;5;2m⣿\u001b[39m\u001b[38;5;2m⣿\u001b[39m\u001b[38;5;2m⣿\u001b[39m\u001b[38;5;2m⣿\u001b[39m\u001b[38;5;2m⡿\u001b[39m\u001b[38;5;2m⠿\u001b[39m\u001b[38;5;2m⠛\u001b[39m\u001b[38;5;2m⠋\u001b[39m\u001b[38;5;2m⠉\u001b[39m\u001b[0m⠀\u001b[0m⠀\u001b[0m⠀\u001b[0m⠀\u001b[0m⠀\u001b[90m│\u001b[39m \n",
       "          \u001b[90m│\u001b[39m\u001b[0m⠀\u001b[0m⠀\u001b[0m⠀\u001b[0m⠀\u001b[0m⠀\u001b[0m⠀\u001b[0m⠀\u001b[0m⠀\u001b[0m⠀\u001b[0m⠀\u001b[38;5;2m⠈\u001b[39m\u001b[38;5;2m⠙\u001b[39m\u001b[38;5;2m⠛\u001b[39m\u001b[38;5;2m⠿\u001b[39m\u001b[38;5;2m⣿\u001b[39m\u001b[38;5;2m⣿\u001b[39m\u001b[38;5;2m⣿\u001b[39m\u001b[38;5;2m⣿\u001b[39m\u001b[38;5;2m⣿\u001b[39m\u001b[38;5;2m⣿\u001b[39m\u001b[38;5;2m⣿\u001b[39m\u001b[38;5;2m⣿\u001b[39m\u001b[38;5;2m⣿\u001b[39m\u001b[38;5;2m⣿\u001b[39m\u001b[38;5;2m⣿\u001b[39m\u001b[38;5;2m⣿\u001b[39m\u001b[38;5;2m⠿\u001b[39m\u001b[38;5;2m⠛\u001b[39m\u001b[38;5;2m⠋\u001b[39m\u001b[38;5;2m⠁\u001b[39m\u001b[0m⠀\u001b[0m⠀\u001b[0m⠀\u001b[0m⠀\u001b[0m⠀\u001b[0m⠀\u001b[0m⠀\u001b[0m⠀\u001b[0m⠀\u001b[0m⠀\u001b[90m│\u001b[39m \n",
       "   \u001b[0mDEC    \u001b[90m│\u001b[39m\u001b[0m⠀\u001b[0m⠀\u001b[0m⠀\u001b[0m⠀\u001b[0m⠀\u001b[0m⠀\u001b[0m⠀\u001b[0m⠀\u001b[0m⠀\u001b[0m⠀\u001b[0m⠀\u001b[0m⠀\u001b[0m⠀\u001b[0m⠀\u001b[38;5;2m⠈\u001b[39m\u001b[38;5;2m⠙\u001b[39m\u001b[38;5;2m⠻\u001b[39m\u001b[38;5;2m⣿\u001b[39m\u001b[38;5;2m⣿\u001b[39m\u001b[38;5;2m⣿\u001b[39m\u001b[38;5;2m⣿\u001b[39m\u001b[38;5;2m⣿\u001b[39m\u001b[38;5;2m⣿\u001b[39m\u001b[38;5;2m⠟\u001b[39m\u001b[38;5;2m⠋\u001b[39m\u001b[38;5;2m⠁\u001b[39m\u001b[0m⠀\u001b[0m⠀\u001b[0m⠀\u001b[0m⠀\u001b[0m⠀\u001b[0m⠀\u001b[0m⠀\u001b[0m⠀\u001b[0m⠀\u001b[0m⠀\u001b[0m⠀\u001b[0m⠀\u001b[0m⠀\u001b[0m⠀\u001b[90m│\u001b[39m \n",
       "          \u001b[90m│\u001b[39m\u001b[0m⠀\u001b[0m⠀\u001b[0m⠀\u001b[0m⠀\u001b[0m⠀\u001b[0m⠀\u001b[0m⠀\u001b[0m⠀\u001b[0m⠀\u001b[0m⠀\u001b[0m⠀\u001b[0m⠀\u001b[0m⠀\u001b[0m⠀\u001b[0m⠀\u001b[0m⠀\u001b[0m⠀\u001b[0m⠀\u001b[38;5;2m⠙\u001b[39m\u001b[38;5;2m⢿\u001b[39m\u001b[38;5;2m⡿\u001b[39m\u001b[38;5;2m⠋\u001b[39m\u001b[0m⠀\u001b[0m⠀\u001b[0m⠀\u001b[0m⠀\u001b[0m⠀\u001b[0m⠀\u001b[0m⠀\u001b[0m⠀\u001b[0m⠀\u001b[0m⠀\u001b[0m⠀\u001b[0m⠀\u001b[0m⠀\u001b[0m⠀\u001b[0m⠀\u001b[0m⠀\u001b[0m⠀\u001b[0m⠀\u001b[90m│\u001b[39m \n",
       "          \u001b[90m│\u001b[39m\u001b[0m⠀\u001b[0m⠀\u001b[0m⠀\u001b[0m⠀\u001b[0m⠀\u001b[0m⠀\u001b[0m⠀\u001b[0m⠀\u001b[0m⠀\u001b[0m⠀\u001b[0m⠀\u001b[0m⠀\u001b[0m⠀\u001b[0m⠀\u001b[0m⠀\u001b[0m⠀\u001b[0m⠀\u001b[0m⠀\u001b[0m⠀\u001b[0m⠀\u001b[0m⠀\u001b[0m⠀\u001b[0m⠀\u001b[0m⠀\u001b[0m⠀\u001b[0m⠀\u001b[0m⠀\u001b[0m⠀\u001b[0m⠀\u001b[0m⠀\u001b[0m⠀\u001b[0m⠀\u001b[0m⠀\u001b[0m⠀\u001b[0m⠀\u001b[0m⠀\u001b[0m⠀\u001b[0m⠀\u001b[0m⠀\u001b[0m⠀\u001b[90m│\u001b[39m \n",
       "          \u001b[90m│\u001b[39m\u001b[0m⠀\u001b[0m⠀\u001b[0m⠀\u001b[0m⠀\u001b[0m⠀\u001b[0m⠀\u001b[0m⠀\u001b[0m⠀\u001b[0m⠀\u001b[0m⠀\u001b[0m⠀\u001b[0m⠀\u001b[0m⠀\u001b[0m⠀\u001b[0m⠀\u001b[0m⠀\u001b[0m⠀\u001b[0m⠀\u001b[0m⠀\u001b[0m⠀\u001b[0m⠀\u001b[0m⠀\u001b[0m⠀\u001b[0m⠀\u001b[0m⠀\u001b[0m⠀\u001b[0m⠀\u001b[0m⠀\u001b[0m⠀\u001b[0m⠀\u001b[0m⠀\u001b[0m⠀\u001b[0m⠀\u001b[0m⠀\u001b[0m⠀\u001b[0m⠀\u001b[0m⠀\u001b[0m⠀\u001b[0m⠀\u001b[0m⠀\u001b[90m│\u001b[39m \n",
       "          \u001b[90m│\u001b[39m\u001b[0m⠀\u001b[0m⠀\u001b[0m⠀\u001b[0m⠀\u001b[0m⠀\u001b[0m⠀\u001b[0m⠀\u001b[0m⠀\u001b[0m⠀\u001b[0m⠀\u001b[0m⠀\u001b[0m⠀\u001b[0m⠀\u001b[0m⠀\u001b[0m⠀\u001b[0m⠀\u001b[0m⠀\u001b[0m⠀\u001b[0m⠀\u001b[0m⠀\u001b[0m⠀\u001b[0m⠀\u001b[0m⠀\u001b[0m⠀\u001b[0m⠀\u001b[0m⠀\u001b[0m⠀\u001b[0m⠀\u001b[0m⠀\u001b[0m⠀\u001b[0m⠀\u001b[0m⠀\u001b[0m⠀\u001b[0m⠀\u001b[0m⠀\u001b[0m⠀\u001b[0m⠀\u001b[0m⠀\u001b[0m⠀\u001b[0m⠀\u001b[90m│\u001b[39m \n",
       "          \u001b[90m│\u001b[39m\u001b[0m⠀\u001b[0m⠀\u001b[0m⠀\u001b[0m⠀\u001b[0m⠀\u001b[0m⠀\u001b[0m⠀\u001b[0m⠀\u001b[0m⠀\u001b[0m⠀\u001b[0m⠀\u001b[0m⠀\u001b[0m⠀\u001b[0m⠀\u001b[0m⠀\u001b[0m⠀\u001b[0m⠀\u001b[0m⠀\u001b[0m⠀\u001b[0m⠀\u001b[0m⠀\u001b[0m⠀\u001b[0m⠀\u001b[0m⠀\u001b[0m⠀\u001b[0m⠀\u001b[0m⠀\u001b[0m⠀\u001b[0m⠀\u001b[0m⠀\u001b[0m⠀\u001b[0m⠀\u001b[0m⠀\u001b[0m⠀\u001b[0m⠀\u001b[0m⠀\u001b[0m⠀\u001b[0m⠀\u001b[0m⠀\u001b[0m⠀\u001b[90m│\u001b[39m \n",
       "          \u001b[90m│\u001b[39m\u001b[0m⠀\u001b[0m⠀\u001b[0m⠀\u001b[0m⠀\u001b[0m⠀\u001b[0m⠀\u001b[0m⠀\u001b[0m⠀\u001b[0m⠀\u001b[0m⠀\u001b[0m⠀\u001b[0m⠀\u001b[0m⠀\u001b[0m⠀\u001b[0m⠀\u001b[0m⠀\u001b[0m⠀\u001b[0m⠀\u001b[0m⠀\u001b[0m⠀\u001b[0m⠀\u001b[0m⠀\u001b[0m⠀\u001b[0m⠀\u001b[0m⠀\u001b[0m⠀\u001b[0m⠀\u001b[0m⠀\u001b[0m⠀\u001b[0m⠀\u001b[0m⠀\u001b[0m⠀\u001b[0m⠀\u001b[0m⠀\u001b[0m⠀\u001b[0m⠀\u001b[0m⠀\u001b[0m⠀\u001b[0m⠀\u001b[0m⠀\u001b[90m│\u001b[39m \n",
       "       \u001b[90m70\u001b[39m \u001b[90m│\u001b[39m\u001b[0m⠀\u001b[0m⠀\u001b[0m⠀\u001b[0m⠀\u001b[0m⠀\u001b[0m⠀\u001b[0m⠀\u001b[0m⠀\u001b[0m⠀\u001b[0m⠀\u001b[0m⠀\u001b[0m⠀\u001b[0m⠀\u001b[0m⠀\u001b[0m⠀\u001b[0m⠀\u001b[0m⠀\u001b[0m⠀\u001b[0m⠀\u001b[0m⠀\u001b[0m⠀\u001b[0m⠀\u001b[0m⠀\u001b[0m⠀\u001b[0m⠀\u001b[0m⠀\u001b[0m⠀\u001b[0m⠀\u001b[0m⠀\u001b[0m⠀\u001b[0m⠀\u001b[0m⠀\u001b[0m⠀\u001b[0m⠀\u001b[0m⠀\u001b[0m⠀\u001b[0m⠀\u001b[0m⠀\u001b[0m⠀\u001b[0m⠀\u001b[90m│\u001b[39m \n",
       "          \u001b[90m└────────────────────────────────────────┘\u001b[39m \n",
       "          ⠀\u001b[90m0\u001b[39m⠀⠀⠀⠀⠀⠀⠀⠀⠀⠀⠀⠀⠀⠀⠀⠀⠀⠀⠀⠀⠀⠀⠀⠀⠀⠀⠀⠀⠀⠀⠀⠀⠀⠀⠀⠀⠀\u001b[90m90\u001b[39m⠀ \n",
       "          ⠀⠀⠀⠀⠀⠀⠀⠀⠀⠀⠀⠀⠀⠀⠀⠀⠀⠀⠀⠀\u001b[0mRA⠀⠀⠀⠀⠀⠀⠀⠀⠀⠀⠀⠀⠀⠀⠀⠀⠀⠀⠀⠀ "
      ]
     },
     "execution_count": 14,
     "metadata": {},
     "output_type": "execute_result"
    }
   ],
   "source": [
    "ra = f[2].data[\"RA\"]\n",
    "dec = f[2].data[\"DEC\"]\n",
    "ra = convert(Vector{Float64}, ra)\n",
    "dec = convert(Vector{Float64}, dec)\n",
    "println(mean(ra))\n",
    "println(mean(dec))\n",
    "scatterplot(ra, dec, title=\"RA vs DEC Scatterplot\", xlabel=\"RA\", ylabel=\"DEC\")"
   ]
  },
  {
   "cell_type": "markdown",
   "id": "ab1afddf",
   "metadata": {},
   "source": [
    "### We use the Position Type to tell the Correlator Function where the data came from: \"DATA\" or \"RANDOM\"\n",
    "\n",
    "### If you want to extend the correlation function to deal with new types of data, you can define your inputs as a new type and use Julia's multiple dispatch to redefine the `corr` functions behavior when dealing with data of that type"
   ]
  },
  {
   "cell_type": "code",
   "execution_count": 15,
   "id": "7b061d21",
   "metadata": {},
   "outputs": [
    {
     "data": {
      "text/plain": [
       "390935-element Vector{Position_RA_DEC}:\n",
       " Position_RA_DEC(56.419498443603516, 84.22149658203125, \"DATA\")\n",
       " Position_RA_DEC(56.382301330566406, 84.22260284423828, \"DATA\")\n",
       " Position_RA_DEC(56.43119812011719, 84.22440338134766, \"DATA\")\n",
       " Position_RA_DEC(56.21649932861328, 84.20870208740234, \"DATA\")\n",
       " Position_RA_DEC(56.173500061035156, 84.23539733886719, \"DATA\")\n",
       " Position_RA_DEC(56.332000732421875, 84.21219635009766, \"DATA\")\n",
       " Position_RA_DEC(56.38759994506836, 84.216796875, \"DATA\")\n",
       " Position_RA_DEC(56.49359893798828, 84.27410125732422, \"DATA\")\n",
       " Position_RA_DEC(56.18080139160156, 84.27010345458984, \"DATA\")\n",
       " Position_RA_DEC(56.24810028076172, 84.21029663085938, \"DATA\")\n",
       " Position_RA_DEC(56.49470138549805, 84.28060150146484, \"DATA\")\n",
       " Position_RA_DEC(56.55720138549805, 84.25129699707031, \"DATA\")\n",
       " Position_RA_DEC(56.75360107421875, 84.2135009765625, \"DATA\")\n",
       " ⋮\n",
       " Position_RA_DEC(48.86280059814453, 86.27420043945312, \"DATA\")\n",
       " Position_RA_DEC(73.57859802246094, 85.71589660644531, \"DATA\")\n",
       " Position_RA_DEC(78.02670288085938, 85.82140350341797, \"DATA\")\n",
       " Position_RA_DEC(45.81779861450195, 82.78350067138672, \"DATA\")\n",
       " Position_RA_DEC(76.82350158691406, 86.11019897460938, \"DATA\")\n",
       " Position_RA_DEC(74.61599731445312, 85.88189697265625, \"DATA\")\n",
       " Position_RA_DEC(76.77410125732422, 85.94219970703125, \"DATA\")\n",
       " Position_RA_DEC(79.33910369873047, 85.85679626464844, \"DATA\")\n",
       " Position_RA_DEC(26.437000274658203, 85.39749908447266, \"DATA\")\n",
       " Position_RA_DEC(48.939701080322266, 86.1897964477539, \"DATA\")\n",
       " Position_RA_DEC(48.472900390625, 86.35150146484375, \"DATA\")\n",
       " Position_RA_DEC(78.47820281982422, 85.70259857177734, \"DATA\")"
      ]
     },
     "execution_count": 15,
     "metadata": {},
     "output_type": "execute_result"
    }
   ],
   "source": [
    "positions = [Position_RA_DEC(ra, dec, \"DATA\") for (ra, dec) in zip(ra, dec)]"
   ]
  },
  {
   "cell_type": "markdown",
   "id": "e74aa37a",
   "metadata": {},
   "source": [
    "### Okay, now let's correlate!"
   ]
  },
  {
   "cell_type": "code",
   "execution_count": 16,
   "id": "e705b722",
   "metadata": {},
   "outputs": [
    {
     "ename": "LoadError",
     "evalue": "UndefVarError: `DD` not defined",
     "output_type": "error",
     "traceback": [
      "UndefVarError: `DD` not defined",
      "",
      "Stacktrace:",
      " [1] top-level scope",
      "   @ In[16]:1"
     ]
    }
   ],
   "source": [
    "corr(ra, dec, positions, positions, 1.0, 100, 400.0; correlator=naivecorr, verbose=true)"
   ]
  },
  {
   "cell_type": "code",
   "execution_count": null,
   "id": "f84b7304",
   "metadata": {},
   "outputs": [],
   "source": [
    "#cool color map"
   ]
  },
  {
   "cell_type": "code",
   "execution_count": 13,
   "id": "f53f6e6a",
   "metadata": {},
   "outputs": [],
   "source": [
    "using UnicodePlots"
   ]
  },
  {
   "cell_type": "code",
   "execution_count": 14,
   "id": "aa2a4dad",
   "metadata": {},
   "outputs": [
    {
     "data": {
      "text/plain": [
       "      \u001b[90m┌────────────────────────────────────────┐\u001b[39m  ⠀⠀⠀⠀     \n",
       "    \u001b[90m1\u001b[39m \u001b[90m│\u001b[39m\u001b[0m⠀\u001b[0m⠀\u001b[0m⠀\u001b[0m⠀\u001b[0m⠀\u001b[0m⠀\u001b[0m⠀\u001b[0m⠀\u001b[0m⠀\u001b[0m⠀\u001b[0m⠀\u001b[0m⠀\u001b[0m⠀\u001b[0m⠀\u001b[0m⠀\u001b[0m⠀\u001b[0m⠀\u001b[0m⠀\u001b[0m⠀\u001b[0m⠀\u001b[0m⠀\u001b[0m⠀\u001b[0m⠀\u001b[0m⠀\u001b[0m⠀\u001b[0m⠀\u001b[0m⠀\u001b[0m⠀\u001b[0m⠀\u001b[0m⠀\u001b[0m⠀\u001b[0m⠀\u001b[0m⠀\u001b[0m⠀\u001b[0m⠀\u001b[0m⠀\u001b[0m⠀\u001b[0m⠀\u001b[0m⠀\u001b[0m⠀\u001b[90m│\u001b[39m  \u001b[90m┌──┐\u001b[39m \u001b[90m15.0\u001b[39m\n",
       "      \u001b[90m│\u001b[39m\u001b[0m⠀\u001b[0m⠀\u001b[0m⠀\u001b[0m⠀\u001b[0m⠀\u001b[0m⠀\u001b[0m⠀\u001b[0m⠀\u001b[0m⠀\u001b[0m⠀\u001b[0m⠀\u001b[0m⠀\u001b[0m⠀\u001b[0m⠀\u001b[0m⠀\u001b[0m⠀\u001b[0m⠀\u001b[0m⠀\u001b[0m⠀\u001b[0m⠀\u001b[0m⠀\u001b[0m⠀\u001b[0m⠀\u001b[0m⠀\u001b[0m⠀\u001b[0m⠀\u001b[0m⠀\u001b[0m⠀\u001b[0m⠀\u001b[0m⠀\u001b[0m⠀\u001b[0m⠀\u001b[0m⠀\u001b[0m⠀\u001b[0m⠀\u001b[0m⠀\u001b[0m⠀\u001b[0m⠀\u001b[0m⠀\u001b[0m⠀\u001b[90m│\u001b[39m  \u001b[90m│\u001b[39m\u001b[38;5;196;48;5;160m▄▄\u001b[0m\u001b[90m│\u001b[39m     \n",
       "      \u001b[90m│\u001b[39m\u001b[0m⠀\u001b[0m⠀\u001b[0m⠀\u001b[0m⠀\u001b[0m⠀\u001b[0m⠀\u001b[0m⠀\u001b[0m⠀\u001b[0m⠀\u001b[0m⠀\u001b[0m⠀\u001b[0m⠀\u001b[0m⠀\u001b[0m⠀\u001b[0m⠀\u001b[0m⠀\u001b[0m⠀\u001b[0m⠀\u001b[0m⠀\u001b[0m⠀\u001b[0m⠀\u001b[0m⠀\u001b[0m⠀\u001b[0m⠀\u001b[0m⠀\u001b[0m⠀\u001b[0m⠀\u001b[0m⠀\u001b[0m⠀\u001b[0m⠀\u001b[0m⠀\u001b[0m⠀\u001b[0m⠀\u001b[0m⠀\u001b[0m⠀\u001b[0m⠀\u001b[0m⠀\u001b[0m⠀\u001b[0m⠀\u001b[0m⠀\u001b[90m│\u001b[39m  \u001b[90m│\u001b[39m\u001b[38;5;208;48;5;202m▄▄\u001b[0m\u001b[90m│\u001b[39m     \n",
       "      \u001b[90m│\u001b[39m\u001b[0m⠀\u001b[0m⠀\u001b[0m⠀\u001b[0m⠀\u001b[0m⠀\u001b[0m⠀\u001b[0m⠀\u001b[0m⠀\u001b[0m⠀\u001b[0m⠀\u001b[0m⠀\u001b[0m⠀\u001b[0m⠀\u001b[0m⠀\u001b[0m⠀\u001b[0m⠀\u001b[0m⠀\u001b[0m⠀\u001b[0m⠀\u001b[38;5;196m⢀\u001b[39m\u001b[38;5;160m⡄\u001b[39m\u001b[0m⠀\u001b[0m⠀\u001b[0m⠀\u001b[0m⠀\u001b[0m⠀\u001b[0m⠀\u001b[0m⠀\u001b[0m⠀\u001b[0m⠀\u001b[0m⠀\u001b[0m⠀\u001b[0m⠀\u001b[0m⠀\u001b[0m⠀\u001b[0m⠀\u001b[0m⠀\u001b[0m⠀\u001b[0m⠀\u001b[0m⠀\u001b[90m│\u001b[39m  \u001b[90m│\u001b[39m\u001b[38;5;220;48;5;214m▄▄\u001b[0m\u001b[90m│\u001b[39m     \n",
       "      \u001b[90m│\u001b[39m\u001b[0m⠀\u001b[0m⠀\u001b[0m⠀\u001b[0m⠀\u001b[0m⠀\u001b[0m⠀\u001b[0m⠀\u001b[0m⠀\u001b[0m⠀\u001b[0m⠀\u001b[0m⠀\u001b[0m⠀\u001b[0m⠀\u001b[0m⠀\u001b[0m⠀\u001b[0m⠀\u001b[0m⠀\u001b[0m⠀\u001b[38;5;214m⢀\u001b[39m\u001b[38;5;208m⡫\u001b[39m\u001b[38;5;208m⢟\u001b[39m\u001b[38;5;214m⡀\u001b[39m\u001b[0m⠀\u001b[0m⠀\u001b[0m⠀\u001b[0m⠀\u001b[0m⠀\u001b[0m⠀\u001b[0m⠀\u001b[0m⠀\u001b[0m⠀\u001b[0m⠀\u001b[0m⠀\u001b[0m⠀\u001b[0m⠀\u001b[0m⠀\u001b[0m⠀\u001b[0m⠀\u001b[0m⠀\u001b[0m⠀\u001b[90m│\u001b[39m  \u001b[90m│\u001b[39m\u001b[38;5;226;48;5;226m▄▄\u001b[0m\u001b[90m│\u001b[39m     \n",
       "      \u001b[90m│\u001b[39m\u001b[0m⠀\u001b[0m⠀\u001b[0m⠀\u001b[0m⠀\u001b[0m⠀\u001b[0m⠀\u001b[0m⠀\u001b[0m⠀\u001b[0m⠀\u001b[0m⠀\u001b[0m⠀\u001b[0m⠀\u001b[0m⠀\u001b[0m⠀\u001b[0m⠀\u001b[0m⠀\u001b[0m⠀\u001b[0m⠀\u001b[38;5;226m⡔\u001b[39m\u001b[38;5;214m⠌\u001b[39m\u001b[38;5;226m⡡\u001b[39m\u001b[38;5;226m⢢\u001b[39m\u001b[0m⠀\u001b[0m⠀\u001b[0m⠀\u001b[0m⠀\u001b[0m⠀\u001b[0m⠀\u001b[0m⠀\u001b[0m⠀\u001b[0m⠀\u001b[0m⠀\u001b[0m⠀\u001b[0m⠀\u001b[0m⠀\u001b[0m⠀\u001b[0m⠀\u001b[0m⠀\u001b[0m⠀\u001b[0m⠀\u001b[90m│\u001b[39m  \u001b[90m│\u001b[39m\u001b[38;5;154;48;5;190m▄▄\u001b[0m\u001b[90m│\u001b[39m     \n",
       "      \u001b[90m│\u001b[39m\u001b[0m⠀\u001b[0m⠀\u001b[0m⠀\u001b[0m⠀\u001b[0m⠀\u001b[0m⠀\u001b[0m⠀\u001b[0m⠀\u001b[0m⠀\u001b[0m⠀\u001b[0m⠀\u001b[0m⠀\u001b[0m⠀\u001b[0m⠀\u001b[0m⠀\u001b[38;5;50m⢀\u001b[39m\u001b[38;5;50m⣀\u001b[39m\u001b[38;5;154m⣰\u001b[39m\u001b[38;5;226m⣭\u001b[39m\u001b[38;5;226m⣊\u001b[39m\u001b[38;5;226m⣑\u001b[39m\u001b[38;5;226m⣭\u001b[39m\u001b[38;5;154m⣆\u001b[39m\u001b[38;5;50m⣀\u001b[39m\u001b[38;5;50m⡀\u001b[39m\u001b[0m⠀\u001b[0m⠀\u001b[0m⠀\u001b[0m⠀\u001b[0m⠀\u001b[0m⠀\u001b[0m⠀\u001b[0m⠀\u001b[0m⠀\u001b[0m⠀\u001b[0m⠀\u001b[0m⠀\u001b[0m⠀\u001b[0m⠀\u001b[0m⠀\u001b[90m│\u001b[39m  \u001b[90m│\u001b[39m\u001b[38;5;82;48;5;118m▄▄\u001b[0m\u001b[90m│\u001b[39m     \n",
       "      \u001b[90m│\u001b[39m\u001b[0m⠀\u001b[0m⠀\u001b[0m⠀\u001b[0m⠀\u001b[0m⠀\u001b[0m⠀\u001b[0m⠀\u001b[0m⠀\u001b[0m⠀\u001b[0m⠀\u001b[38;5;50m⢀\u001b[39m\u001b[38;5;50m⣤\u001b[39m\u001b[38;5;50m⠴\u001b[39m\u001b[38;5;51m⣚\u001b[39m\u001b[38;5;51m⠯\u001b[39m\u001b[38;5;51m⡫\u001b[39m\u001b[38;5;51m⢝\u001b[39m\u001b[38;5;82m⣿\u001b[39m\u001b[38;5;82m⣿\u001b[39m\u001b[38;5;154m⡻\u001b[39m\u001b[38;5;154m⣟\u001b[39m\u001b[38;5;82m⣿\u001b[39m\u001b[38;5;82m⣿\u001b[39m\u001b[38;5;51m⡫\u001b[39m\u001b[38;5;51m⢝\u001b[39m\u001b[38;5;51m⠽\u001b[39m\u001b[38;5;51m⣓\u001b[39m\u001b[38;5;50m⠦\u001b[39m\u001b[38;5;50m⣤\u001b[39m\u001b[38;5;50m⡀\u001b[39m\u001b[0m⠀\u001b[0m⠀\u001b[0m⠀\u001b[0m⠀\u001b[0m⠀\u001b[0m⠀\u001b[0m⠀\u001b[0m⠀\u001b[0m⠀\u001b[0m⠀\u001b[90m│\u001b[39m  \u001b[90m│\u001b[39m\u001b[38;5;46;48;5;46m▄▄\u001b[0m\u001b[90m│\u001b[39m     \n",
       "      \u001b[90m│\u001b[39m\u001b[0m⠀\u001b[0m⠀\u001b[0m⠀\u001b[0m⠀\u001b[0m⠀\u001b[0m⠀\u001b[0m⠀\u001b[0m⠀\u001b[38;5;50m⣠\u001b[39m\u001b[38;5;50m⣾\u001b[39m\u001b[38;5;51m⣯\u001b[39m\u001b[38;5;51m⡭\u001b[39m\u001b[38;5;51m⠭\u001b[39m\u001b[38;5;51m⠒\u001b[39m\u001b[38;5;39m⢊\u001b[39m\u001b[38;5;45m⠔\u001b[39m\u001b[38;5;48m⢱\u001b[39m\u001b[38;5;48m⢍\u001b[39m\u001b[38;5;50m⡘\u001b[39m\u001b[38;5;46m⡖\u001b[39m\u001b[38;5;46m⣳\u001b[39m\u001b[38;5;50m⢃\u001b[39m\u001b[38;5;48m⡩\u001b[39m\u001b[38;5;48m⡎\u001b[39m\u001b[38;5;45m⠢\u001b[39m\u001b[38;5;39m⡑\u001b[39m\u001b[38;5;51m⠒\u001b[39m\u001b[38;5;51m⠭\u001b[39m\u001b[38;5;51m⢭\u001b[39m\u001b[38;5;51m⣽\u001b[39m\u001b[38;5;50m⣷\u001b[39m\u001b[38;5;50m⣄\u001b[39m\u001b[0m⠀\u001b[0m⠀\u001b[0m⠀\u001b[0m⠀\u001b[0m⠀\u001b[0m⠀\u001b[0m⠀\u001b[0m⠀\u001b[90m│\u001b[39m  \u001b[90m│\u001b[39m\u001b[38;5;47;48;5;46m▄▄\u001b[0m\u001b[90m│\u001b[39m     \n",
       "      \u001b[90m│\u001b[39m\u001b[0m⠀\u001b[0m⠀\u001b[0m⠀\u001b[0m⠀\u001b[0m⠀\u001b[0m⠀\u001b[38;5;45m⣠\u001b[39m\u001b[38;5;51m⣾\u001b[39m\u001b[38;5;51m⣿\u001b[39m\u001b[38;5;50m⣿\u001b[39m\u001b[38;5;50m⣿\u001b[39m\u001b[38;5;51m⣞\u001b[39m\u001b[38;5;45m⠭\u001b[39m\u001b[38;5;33m⠭\u001b[39m\u001b[38;5;33m⠥\u001b[39m\u001b[38;5;45m⢒\u001b[39m\u001b[38;5;50m⣿\u001b[39m\u001b[38;5;48m⣋\u001b[39m\u001b[38;5;50m⣵\u001b[39m\u001b[38;5;48m⢜\u001b[39m\u001b[38;5;48m⡧\u001b[39m\u001b[38;5;50m⣮\u001b[39m\u001b[38;5;48m⣙\u001b[39m\u001b[38;5;50m⣿\u001b[39m\u001b[38;5;45m⡒\u001b[39m\u001b[38;5;33m⠬\u001b[39m\u001b[38;5;33m⠭\u001b[39m\u001b[38;5;45m⠭\u001b[39m\u001b[38;5;51m⣳\u001b[39m\u001b[38;5;50m⣿\u001b[39m\u001b[38;5;50m⣿\u001b[39m\u001b[38;5;51m⣿\u001b[39m\u001b[38;5;51m⣷\u001b[39m\u001b[38;5;45m⣄\u001b[39m\u001b[0m⠀\u001b[0m⠀\u001b[0m⠀\u001b[0m⠀\u001b[0m⠀\u001b[0m⠀\u001b[90m│\u001b[39m  \u001b[90m│\u001b[39m\u001b[38;5;49;48;5;48m▄▄\u001b[0m\u001b[90m│\u001b[39m     \n",
       "      \u001b[90m│\u001b[39m\u001b[0m⠀\u001b[0m⠀\u001b[0m⠀\u001b[0m⠀\u001b[38;5;33m⠴\u001b[39m\u001b[38;5;39m⢾\u001b[39m\u001b[38;5;45m⠿\u001b[39m\u001b[38;5;51m⠯\u001b[39m\u001b[38;5;51m⠛\u001b[39m\u001b[38;5;51m⠛\u001b[39m\u001b[38;5;50m⠽\u001b[39m\u001b[38;5;50m⢿\u001b[39m\u001b[38;5;50m⣯\u001b[39m\u001b[38;5;50m⣶\u001b[39m\u001b[38;5;27m⣮\u001b[39m\u001b[38;5;39m⡽\u001b[39m\u001b[38;5;51m⠛\u001b[39m\u001b[38;5;51m⠫\u001b[39m\u001b[38;5;45m⡉\u001b[39m\u001b[38;5;51m⠃\u001b[39m\u001b[38;5;51m⠙\u001b[39m\u001b[38;5;45m⢉\u001b[39m\u001b[38;5;51m⠝\u001b[39m\u001b[38;5;51m⠛\u001b[39m\u001b[38;5;39m⢯\u001b[39m\u001b[38;5;27m⣵\u001b[39m\u001b[38;5;50m⣶\u001b[39m\u001b[38;5;50m⣽\u001b[39m\u001b[38;5;50m⡿\u001b[39m\u001b[38;5;50m⠯\u001b[39m\u001b[38;5;51m⠛\u001b[39m\u001b[38;5;51m⠛\u001b[39m\u001b[38;5;51m⠽\u001b[39m\u001b[38;5;45m⠿\u001b[39m\u001b[38;5;39m⡷\u001b[39m\u001b[38;5;33m⠦\u001b[39m\u001b[0m⠀\u001b[0m⠀\u001b[0m⠀\u001b[0m⠀\u001b[90m│\u001b[39m  \u001b[90m│\u001b[39m\u001b[38;5;51;48;5;50m▄▄\u001b[0m\u001b[90m│\u001b[39m     \n",
       "      \u001b[90m│\u001b[39m\u001b[0m⠀\u001b[0m⠀\u001b[0m⠀\u001b[0m⠀\u001b[0m⠀\u001b[0m⠀\u001b[0m⠀\u001b[0m⠀\u001b[0m⠀\u001b[0m⠀\u001b[0m⠀\u001b[0m⠀\u001b[38;5;45m⠈\u001b[39m\u001b[38;5;50m⢿\u001b[39m\u001b[38;5;51m⣿\u001b[39m\u001b[38;5;51m⣿\u001b[39m\u001b[38;5;51m⢶\u001b[39m\u001b[38;5;51m⣶\u001b[39m\u001b[38;5;51m⣶\u001b[39m\u001b[38;5;51m⡺\u001b[39m\u001b[38;5;51m⣗\u001b[39m\u001b[38;5;51m⣶\u001b[39m\u001b[38;5;51m⣶\u001b[39m\u001b[38;5;51m⡶\u001b[39m\u001b[38;5;51m⣿\u001b[39m\u001b[38;5;51m⣿\u001b[39m\u001b[38;5;50m⡿\u001b[39m\u001b[38;5;45m⠁\u001b[39m\u001b[0m⠀\u001b[0m⠀\u001b[0m⠀\u001b[0m⠀\u001b[0m⠀\u001b[0m⠀\u001b[0m⠀\u001b[0m⠀\u001b[0m⠀\u001b[0m⠀\u001b[0m⠀\u001b[0m⠀\u001b[90m│\u001b[39m  \u001b[90m│\u001b[39m\u001b[38;5;45;48;5;51m▄▄\u001b[0m\u001b[90m│\u001b[39m     \n",
       "      \u001b[90m│\u001b[39m\u001b[0m⠀\u001b[0m⠀\u001b[0m⠀\u001b[0m⠀\u001b[38;5;4m⡇\u001b[39m\u001b[0m⠀\u001b[0m⠀\u001b[0m⠀\u001b[0m⠀\u001b[0m⠀\u001b[0m⠀\u001b[0m⠀\u001b[0m⠀\u001b[0m⠀\u001b[38;5;27m⠈\u001b[39m\u001b[38;5;33m⠙\u001b[39m\u001b[38;5;51m⠛\u001b[39m\u001b[38;5;45m⢷\u001b[39m\u001b[38;5;45m⢵\u001b[39m\u001b[38;5;45m⢾\u001b[39m\u001b[38;5;45m⡷\u001b[39m\u001b[38;5;45m⡮\u001b[39m\u001b[38;5;45m⡾\u001b[39m\u001b[38;5;51m⠛\u001b[39m\u001b[38;5;33m⠋\u001b[39m\u001b[38;5;27m⠁\u001b[39m\u001b[0m⠀\u001b[0m⠀\u001b[0m⠀\u001b[0m⠀\u001b[0m⠀\u001b[0m⠀\u001b[0m⠀\u001b[0m⠀\u001b[0m⠀\u001b[0m⠀\u001b[0m⠀\u001b[0m⠀\u001b[0m⠀\u001b[0m⠀\u001b[90m│\u001b[39m  \u001b[90m│\u001b[39m\u001b[38;5;33;48;5;39m▄▄\u001b[0m\u001b[90m│\u001b[39m     \n",
       "      \u001b[90m│\u001b[39m\u001b[0m⠀\u001b[0m⠀\u001b[38;5;1m⣀\u001b[39m\u001b[38;5;1m⠤\u001b[39m\u001b[38;5;4m⠧\u001b[39m\u001b[38;5;2m⢄\u001b[39m\u001b[38;5;2m⡀\u001b[39m\u001b[0m⠀\u001b[0m⠀\u001b[0m⠀\u001b[0m⠀\u001b[0m⠀\u001b[0m⠀\u001b[0m⠀\u001b[0m⠀\u001b[0m⠀\u001b[0m⠀\u001b[0m⠀\u001b[38;5;39m⠢\u001b[39m\u001b[38;5;33m⢕\u001b[39m\u001b[38;5;39m⡯\u001b[39m\u001b[38;5;39m⠔\u001b[39m\u001b[0m⠀\u001b[0m⠀\u001b[0m⠀\u001b[0m⠀\u001b[0m⠀\u001b[0m⠀\u001b[0m⠀\u001b[0m⠀\u001b[0m⠀\u001b[0m⠀\u001b[0m⠀\u001b[0m⠀\u001b[0m⠀\u001b[0m⠀\u001b[0m⠀\u001b[0m⠀\u001b[0m⠀\u001b[0m⠀\u001b[90m│\u001b[39m  \u001b[90m│\u001b[39m\u001b[38;5;21;48;5;27m▄▄\u001b[0m\u001b[90m│\u001b[39m     \n",
       "   \u001b[90m-1\u001b[39m \u001b[90m│\u001b[39m\u001b[38;5;1m⠐\u001b[39m\u001b[38;5;1m⠉\u001b[39m\u001b[0m⠀\u001b[0m⠀\u001b[0m⠀\u001b[0m⠀\u001b[38;5;2m⠈\u001b[39m\u001b[38;5;2m⠑\u001b[39m\u001b[0m⠀\u001b[0m⠀\u001b[0m⠀\u001b[0m⠀\u001b[0m⠀\u001b[0m⠀\u001b[0m⠀\u001b[0m⠀\u001b[0m⠀\u001b[0m⠀\u001b[0m⠀\u001b[0m⠀\u001b[0m⠀\u001b[0m⠀\u001b[0m⠀\u001b[0m⠀\u001b[0m⠀\u001b[0m⠀\u001b[0m⠀\u001b[0m⠀\u001b[0m⠀\u001b[0m⠀\u001b[0m⠀\u001b[0m⠀\u001b[0m⠀\u001b[0m⠀\u001b[0m⠀\u001b[0m⠀\u001b[0m⠀\u001b[0m⠀\u001b[0m⠀\u001b[0m⠀\u001b[90m│\u001b[39m  \u001b[90m└──┘\u001b[39m \u001b[90m-3.0\u001b[39m\n",
       "      \u001b[90m└────────────────────────────────────────┘\u001b[39m  ⠀⠀⠀⠀     \n",
       "      ⠀\u001b[90m-1\u001b[39m⠀⠀⠀⠀⠀⠀⠀⠀⠀⠀⠀⠀⠀⠀⠀⠀⠀⠀⠀⠀⠀⠀⠀⠀⠀⠀⠀⠀⠀⠀⠀⠀⠀⠀⠀⠀⠀\u001b[90m1\u001b[39m⠀  ⠀⠀⠀⠀     "
      ]
     },
     "execution_count": 14,
     "metadata": {},
     "output_type": "execute_result"
    }
   ],
   "source": [
    "sombrero(x, y) = 15sinc(√(x^2 + y^2) / π)\n",
    "surfaceplot(-8:.5:8, -8:.5:8, sombrero, colormap=:jet)"
   ]
  }
 ],
 "metadata": {
  "kernelspec": {
   "display_name": "Julia 1.9.1",
   "language": "julia",
   "name": "julia-1.9"
  },
  "language_info": {
   "file_extension": ".jl",
   "mimetype": "application/julia",
   "name": "julia",
   "version": "1.9.1"
  },
  "vp": {
   "vp_config_version": "1.0.0",
   "vp_menu_width": 273,
   "vp_note_display": false,
   "vp_note_width": 0,
   "vp_position": {
    "width": 278
   },
   "vp_section_display": false,
   "vp_signature": "VisualPython"
  }
 },
 "nbformat": 4,
 "nbformat_minor": 5
}
